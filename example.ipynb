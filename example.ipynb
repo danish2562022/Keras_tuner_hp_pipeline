{
 "cells": [
  {
   "cell_type": "code",
   "execution_count": 9,
   "metadata": {},
   "outputs": [],
   "source": [
    "import os\n",
    "import sys\n",
    "import yaml"
   ]
  },
  {
   "cell_type": "markdown",
   "metadata": {},
   "source": [
    "#### Directory structure\n",
    "<img src=\"tree.png\" width=\"500\" height=\"400\">"
   ]
  },
  {
   "cell_type": "markdown",
   "metadata": {},
   "source": [
    "#### Setting up config file(config.yml)\n",
    "##### Placeholder\n",
    "\n",
    "<pre>\n",
    " --> config_file['input_files']['models']: Path of model\n",
    "\n",
    " --> config_file['training_config']['max_trials']:  Number of hyperparamter fonfiguration(search space)\n",
    "</pre>"
   ]
  },
  {
   "cell_type": "code",
   "execution_count": 10,
   "metadata": {},
   "outputs": [
    {
     "name": "stdout",
     "output_type": "stream",
     "text": [
      "experiment_name : keras_tuner_fully_connected_pipeline\n",
      "input_files : {'app': 'hyperparameter_tuning_custom_training.py', 'models': 'models/model_fc.py', 'dataset': 'datasets/data_loader_classification.py'}\n",
      "training_config : {'epochs': 5, 'max_trials': 5}\n"
     ]
    }
   ],
   "source": [
    "with open('config.yaml') as f:\n",
    "    config_file = yaml.full_load(f) \n",
    "    for item,doc in config_file.items():\n",
    "        print(item,\":\",doc)"
   ]
  },
  {
   "cell_type": "markdown",
   "metadata": {},
   "source": [
    "### Adding conda environment to jupyter notebook\n",
    "##### Step 1. Add snakemake environment to ipykernel\n",
    "\n",
    "\n"
   ]
  },
  {
   "cell_type": "code",
   "execution_count": 4,
   "metadata": {},
   "outputs": [],
   "source": [
    "# %%bash\n",
    "\n",
    "# conda env create -f environment.yml\n",
    "\n",
    "# pip install --user ipykernel \n",
    "\n",
    "# python -m ipykernel install --user --name=snakemake"
   ]
  },
  {
   "cell_type": "markdown",
   "metadata": {},
   "source": [
    "\n",
    "##### Step 2. Change the kernel to conda snakemake environment\n"
   ]
  },
  {
   "cell_type": "markdown",
   "metadata": {},
   "source": [
    "### Running Snakemake to find best optimal hyperparameters"
   ]
  },
  {
   "cell_type": "code",
   "execution_count": 5,
   "metadata": {},
   "outputs": [
    {
     "name": "stderr",
     "output_type": "stream",
     "text": [
      "bash: /home/anwer/anaconda3/lib/libtinfo.so.6: no version information available (required by bash)\n",
      "Building DAG of jobs...\n",
      "Using shell: /usr/bin/bash\n",
      "Provided cores: 16\n",
      "Rules claiming more threads will be scaled down.\n",
      "Job stats:\n",
      "job          count    min threads    max threads\n",
      "---------  -------  -------------  -------------\n",
      "run_model        1              1              1\n",
      "total            1              1              1\n",
      "\n",
      "Select jobs to execute...\n",
      "\n",
      "[Thu Sep 22 09:12:16 2022]\n",
      "rule run_model:\n",
      "    input: hyperparameter_tuning_custom_training.py\n",
      "    output: best_model/keras_tuner_fully_connected_pipeline/model_fc/best_param.txt\n",
      "    jobid: 0\n",
      "    reason: Missing output files: best_model/keras_tuner_fully_connected_pipeline/model_fc/best_param.txt\n",
      "    resources: tmpdir=/tmp\n",
      "\n",
      "2022-09-22 09:12:16.855116: I tensorflow/core/platform/cpu_feature_guard.cc:193] This TensorFlow binary is optimized with oneAPI Deep Neural Network Library (oneDNN) to use the following CPU instructions in performance-critical operations:  AVX2 FMA\n",
      "To enable them in other operations, rebuild TensorFlow with the appropriate compiler flags.\n",
      "2022-09-22 09:12:17.003050: E tensorflow/stream_executor/cuda/cuda_blas.cc:2981] Unable to register cuBLAS factory: Attempting to register factory for plugin cuBLAS when one has already been registered\n",
      "2022-09-22 09:12:17.662914: W tensorflow/stream_executor/platform/default/dso_loader.cc:64] Could not load dynamic library 'libnvinfer.so.7'; dlerror: libnvinfer.so.7: cannot open shared object file: No such file or directory; LD_LIBRARY_PATH: :/home/anwer/anaconda3/lib/\n",
      "2022-09-22 09:12:17.662985: W tensorflow/stream_executor/platform/default/dso_loader.cc:64] Could not load dynamic library 'libnvinfer_plugin.so.7'; dlerror: libnvinfer_plugin.so.7: cannot open shared object file: No such file or directory; LD_LIBRARY_PATH: :/home/anwer/anaconda3/lib/\n",
      "2022-09-22 09:12:17.662993: W tensorflow/compiler/tf2tensorrt/utils/py_utils.cc:38] TF-TRT Warning: Cannot dlopen some TensorRT libraries. If you would like to use Nvidia GPU with TensorRT, please make sure the missing libraries mentioned above are installed properly.\n",
      "2022-09-22 09:12:18.391059: I tensorflow/stream_executor/cuda/cuda_gpu_executor.cc:980] successful NUMA node read from SysFS had negative value (-1), but there must be at least one NUMA node, so returning NUMA node zero\n",
      "2022-09-22 09:12:18.396499: I tensorflow/stream_executor/cuda/cuda_gpu_executor.cc:980] successful NUMA node read from SysFS had negative value (-1), but there must be at least one NUMA node, so returning NUMA node zero\n",
      "2022-09-22 09:12:18.396677: I tensorflow/stream_executor/cuda/cuda_gpu_executor.cc:980] successful NUMA node read from SysFS had negative value (-1), but there must be at least one NUMA node, so returning NUMA node zero\n"
     ]
    },
    {
     "name": "stdout",
     "output_type": "stream",
     "text": [
      "GPUs:  [PhysicalDevice(name='/physical_device:GPU:0', device_type='GPU')]\n",
      "python hyperparameter_tuning_custom_training.py --epochs 5 --max_trials 5 --import_model_dataloader 'from models.model_fc import *' --best_model_path 'best_model/keras_tuner_fully_connected_pipeline/model_fc' --best_model_param 'best_model/keras_tuner_fully_connected_pipeline/model_fc/best_param.txt'\n"
     ]
    },
    {
     "name": "stderr",
     "output_type": "stream",
     "text": [
      "2022-09-22 09:12:18.560392: I tensorflow/core/platform/cpu_feature_guard.cc:193] This TensorFlow binary is optimized with oneAPI Deep Neural Network Library (oneDNN) to use the following CPU instructions in performance-critical operations:  AVX2 FMA\n",
      "To enable them in other operations, rebuild TensorFlow with the appropriate compiler flags.\n",
      "2022-09-22 09:12:18.704101: E tensorflow/stream_executor/cuda/cuda_blas.cc:2981] Unable to register cuBLAS factory: Attempting to register factory for plugin cuBLAS when one has already been registered\n",
      "2022-09-22 09:12:19.372408: W tensorflow/stream_executor/platform/default/dso_loader.cc:64] Could not load dynamic library 'libnvinfer.so.7'; dlerror: libnvinfer.so.7: cannot open shared object file: No such file or directory; LD_LIBRARY_PATH: :/home/anwer/anaconda3/lib/\n",
      "2022-09-22 09:12:19.372466: W tensorflow/stream_executor/platform/default/dso_loader.cc:64] Could not load dynamic library 'libnvinfer_plugin.so.7'; dlerror: libnvinfer_plugin.so.7: cannot open shared object file: No such file or directory; LD_LIBRARY_PATH: :/home/anwer/anaconda3/lib/\n",
      "2022-09-22 09:12:19.372472: W tensorflow/compiler/tf2tensorrt/utils/py_utils.cc:38] TF-TRT Warning: Cannot dlopen some TensorRT libraries. If you would like to use Nvidia GPU with TensorRT, please make sure the missing libraries mentioned above are installed properly.\n",
      "2022-09-22 09:12:20.176308: I tensorflow/stream_executor/cuda/cuda_gpu_executor.cc:980] successful NUMA node read from SysFS had negative value (-1), but there must be at least one NUMA node, so returning NUMA node zero\n",
      "2022-09-22 09:12:20.180912: I tensorflow/stream_executor/cuda/cuda_gpu_executor.cc:980] successful NUMA node read from SysFS had negative value (-1), but there must be at least one NUMA node, so returning NUMA node zero\n",
      "2022-09-22 09:12:20.181102: I tensorflow/stream_executor/cuda/cuda_gpu_executor.cc:980] successful NUMA node read from SysFS had negative value (-1), but there must be at least one NUMA node, so returning NUMA node zero\n",
      "2022-09-22 09:12:20.181569: I tensorflow/core/platform/cpu_feature_guard.cc:193] This TensorFlow binary is optimized with oneAPI Deep Neural Network Library (oneDNN) to use the following CPU instructions in performance-critical operations:  AVX2 FMA\n",
      "To enable them in other operations, rebuild TensorFlow with the appropriate compiler flags.\n",
      "2022-09-22 09:12:20.182628: I tensorflow/stream_executor/cuda/cuda_gpu_executor.cc:980] successful NUMA node read from SysFS had negative value (-1), but there must be at least one NUMA node, so returning NUMA node zero\n",
      "2022-09-22 09:12:20.182934: I tensorflow/stream_executor/cuda/cuda_gpu_executor.cc:980] successful NUMA node read from SysFS had negative value (-1), but there must be at least one NUMA node, so returning NUMA node zero\n",
      "2022-09-22 09:12:20.183156: I tensorflow/stream_executor/cuda/cuda_gpu_executor.cc:980] successful NUMA node read from SysFS had negative value (-1), but there must be at least one NUMA node, so returning NUMA node zero\n",
      "2022-09-22 09:12:20.590617: I tensorflow/stream_executor/cuda/cuda_gpu_executor.cc:980] successful NUMA node read from SysFS had negative value (-1), but there must be at least one NUMA node, so returning NUMA node zero\n",
      "2022-09-22 09:12:20.590780: I tensorflow/stream_executor/cuda/cuda_gpu_executor.cc:980] successful NUMA node read from SysFS had negative value (-1), but there must be at least one NUMA node, so returning NUMA node zero\n",
      "2022-09-22 09:12:20.590899: I tensorflow/stream_executor/cuda/cuda_gpu_executor.cc:980] successful NUMA node read from SysFS had negative value (-1), but there must be at least one NUMA node, so returning NUMA node zero\n",
      "2022-09-22 09:12:20.591010: I tensorflow/core/common_runtime/gpu/gpu_device.cc:1616] Created device /job:localhost/replica:0/task:0/device:GPU:0 with 4580 MB memory:  -> device: 0, name: NVIDIA GeForce RTX 2060, pci bus id: 0000:01:00.0, compute capability: 7.5\n"
     ]
    },
    {
     "name": "stdout",
     "output_type": "stream",
     "text": [
      "\n",
      "Search: Running Trial #1\n",
      "\n",
      "Value             |Best Value So Far |Hyperparameter\n",
      "4                 |?                 |num_layers\n",
      "64                |?                 |units_1\n",
      "0.0035801         |?                 |lr_1\n",
      "tanh              |?                 |activation_1\n",
      "False             |?                 |dropout_1\n",
      "0.00010087        |?                 |lr\n",
      "\n",
      "Epoch 1/5\n",
      "4/4 [==============================] - 5s 499ms/step - loss: 21.8264 - mean_squared_error: 573.0854 - val_loss: 22.1945 - val_mean_squared_error: 571.9250\n",
      "Epoch 2/5\n",
      "4/4 [==============================] - 0s 51ms/step - loss: 21.7549 - mean_squared_error: 569.9575 - val_loss: 22.1205 - val_mean_squared_error: 568.6718\n",
      "Epoch 3/5\n",
      "4/4 [==============================] - 0s 51ms/step - loss: 21.6801 - mean_squared_error: 566.7476 - val_loss: 22.0430 - val_mean_squared_error: 565.2746\n",
      "Epoch 4/5\n",
      "4/4 [==============================] - 0s 47ms/step - loss: 21.6024 - mean_squared_error: 563.4139 - val_loss: 21.9643 - val_mean_squared_error: 561.8441\n",
      "Epoch 5/5\n",
      "4/4 [==============================] - 0s 50ms/step - loss: 21.5236 - mean_squared_error: 560.0210 - val_loss: 21.8838 - val_mean_squared_error: 558.3538\n",
      "Trial 1 Complete [00h 00m 06s]\n",
      "val_loss: 21.883831024169922\n",
      "\n",
      "Best val_loss So Far: 21.883831024169922\n",
      "Total elapsed time: 00h 00m 06s\n",
      "\n",
      "Search: Running Trial #2\n",
      "\n",
      "Value             |Best Value So Far |Hyperparameter\n",
      "2                 |4                 |num_layers\n",
      "448               |64                |units_1\n",
      "0.0020462         |0.0035801         |lr_1\n",
      "tanh              |tanh              |activation_1\n",
      "True              |False             |dropout_1\n",
      "0.00049007        |0.00010087        |lr\n",
      "512               |32                |units_2\n",
      "0.00081513        |0.0001            |lr_2\n",
      "relu              |relu              |activation_2\n",
      "False             |False             |dropout_2\n",
      "384               |32                |units_3\n",
      "0.0096568         |0.0001            |lr_3\n",
      "tanh              |relu              |activation_3\n",
      "True              |False             |dropout_3\n",
      "320               |32                |units_4\n",
      "0.0001806         |0.0001            |lr_4\n",
      "tanh              |relu              |activation_4\n",
      "False             |False             |dropout_4\n",
      "32                |32                |batch_size\n",
      "\n",
      "Epoch 1/5\n",
      "4/4 [==============================] - 4s 472ms/step - loss: 21.3516 - mean_squared_error: 537.0728 - val_loss: 17.9255 - val_mean_squared_error: 402.1888\n",
      "Epoch 2/5\n",
      "4/4 [==============================] - 0s 43ms/step - loss: 16.1952 - mean_squared_error: 367.9769 - val_loss: 14.0865 - val_mean_squared_error: 294.0585\n",
      "Epoch 3/5\n",
      "4/4 [==============================] - 0s 46ms/step - loss: 14.1709 - mean_squared_error: 294.9364 - val_loss: 14.0832 - val_mean_squared_error: 278.1060\n",
      "Epoch 4/5\n",
      "4/4 [==============================] - 0s 37ms/step - loss: 14.5071 - mean_squared_error: 292.6685 - val_loss: 14.2271 - val_mean_squared_error: 278.1048\n",
      "Epoch 5/5\n",
      "4/4 [==============================] - 0s 45ms/step - loss: 14.4585 - mean_squared_error: 289.2779 - val_loss: 13.7368 - val_mean_squared_error: 266.7193\n",
      "Trial 2 Complete [00h 00m 05s]\n",
      "val_loss: 13.7367582321167\n",
      "\n",
      "Best val_loss So Far: 13.7367582321167\n",
      "Total elapsed time: 00h 00m 11s\n",
      "\n",
      "Search: Running Trial #3\n",
      "\n",
      "Value             |Best Value So Far |Hyperparameter\n",
      "2                 |2                 |num_layers\n",
      "416               |448               |units_1\n",
      "0.00072305        |0.0020462         |lr_1\n",
      "relu              |tanh              |activation_1\n",
      "False             |True              |dropout_1\n",
      "0.00010932        |0.00049007        |lr\n",
      "64                |512               |units_2\n",
      "0.00029634        |0.00081513        |lr_2\n",
      "tanh              |relu              |activation_2\n",
      "False             |False             |dropout_2\n",
      "384               |384               |units_3\n",
      "0.00039891        |0.0096568         |lr_3\n",
      "relu              |tanh              |activation_3\n",
      "True              |True              |dropout_3\n",
      "96                |320               |units_4\n",
      "0.00057943        |0.0001806         |lr_4\n",
      "relu              |tanh              |activation_4\n",
      "False             |False             |dropout_4\n",
      "64                |32                |batch_size\n",
      "\n",
      "Epoch 1/5\n",
      "2/2 [==============================] - 4s 1s/step - loss: 21.2257 - mean_squared_error: 546.9001 - val_loss: 21.4755 - val_mean_squared_error: 540.5449\n",
      "Epoch 2/5\n",
      "2/2 [==============================] - 0s 109ms/step - loss: 21.0155 - mean_squared_error: 538.5087 - val_loss: 21.2458 - val_mean_squared_error: 531.0985\n",
      "Epoch 3/5\n",
      "2/2 [==============================] - 0s 115ms/step - loss: 20.7871 - mean_squared_error: 529.3723 - val_loss: 21.0125 - val_mean_squared_error: 521.7062\n",
      "Epoch 4/5\n",
      "2/2 [==============================] - 0s 110ms/step - loss: 20.5611 - mean_squared_error: 520.5587 - val_loss: 20.8219 - val_mean_squared_error: 514.1277\n",
      "Epoch 5/5\n",
      "2/2 [==============================] - 0s 113ms/step - loss: 20.3780 - mean_squared_error: 513.2245 - val_loss: 20.6555 - val_mean_squared_error: 507.5680\n",
      "Trial 3 Complete [00h 00m 05s]\n",
      "val_loss: 20.655540466308594\n",
      "\n",
      "Best val_loss So Far: 13.7367582321167\n",
      "Total elapsed time: 00h 00m 16s\n",
      "\n",
      "Search: Running Trial #4\n",
      "\n",
      "Value             |Best Value So Far |Hyperparameter\n",
      "1                 |2                 |num_layers\n",
      "192               |448               |units_1\n",
      "0.00015409        |0.0020462         |lr_1\n",
      "relu              |tanh              |activation_1\n",
      "True              |True              |dropout_1\n",
      "0.00050999        |0.00049007        |lr\n",
      "320               |512               |units_2\n",
      "0.00024159        |0.00081513        |lr_2\n",
      "tanh              |relu              |activation_2\n",
      "True              |False             |dropout_2\n",
      "480               |384               |units_3\n",
      "0.0061769         |0.0096568         |lr_3\n",
      "tanh              |tanh              |activation_3\n",
      "False             |True              |dropout_3\n",
      "32                |320               |units_4\n",
      "0.00042319        |0.0001806         |lr_4\n",
      "relu              |tanh              |activation_4\n",
      "True              |False             |dropout_4\n",
      "32                |32                |batch_size\n",
      "\n",
      "Epoch 1/5\n",
      "4/4 [==============================] - 4s 471ms/step - loss: 21.3221 - mean_squared_error: 582.8397 - val_loss: 19.7344 - val_mean_squared_error: 490.6201\n",
      "Epoch 2/5\n",
      "4/4 [==============================] - 0s 37ms/step - loss: 20.9358 - mean_squared_error: 561.6042 - val_loss: 19.9819 - val_mean_squared_error: 495.1984\n",
      "Epoch 3/5\n",
      "4/4 [==============================] - 0s 42ms/step - loss: 20.6979 - mean_squared_error: 554.4308 - val_loss: 20.2433 - val_mean_squared_error: 504.5445\n",
      "Epoch 4/5\n",
      "4/4 [==============================] - 0s 40ms/step - loss: 20.7034 - mean_squared_error: 562.6296 - val_loss: 20.2051 - val_mean_squared_error: 502.9954\n",
      "Epoch 5/5\n",
      "4/4 [==============================] - 0s 35ms/step - loss: 20.7850 - mean_squared_error: 565.0547 - val_loss: 19.9724 - val_mean_squared_error: 494.4833\n",
      "Trial 4 Complete [00h 00m 05s]\n",
      "val_loss: 19.734355926513672\n",
      "\n",
      "Best val_loss So Far: 13.7367582321167\n",
      "Total elapsed time: 00h 00m 21s\n",
      "\n",
      "Search: Running Trial #5\n",
      "\n",
      "Value             |Best Value So Far |Hyperparameter\n",
      "2                 |2                 |num_layers\n",
      "128               |448               |units_1\n",
      "0.00183           |0.0020462         |lr_1\n",
      "tanh              |tanh              |activation_1\n",
      "True              |True              |dropout_1\n",
      "0.00082894        |0.00049007        |lr\n",
      "320               |512               |units_2\n",
      "0.00021721        |0.00081513        |lr_2\n",
      "tanh              |relu              |activation_2\n",
      "False             |False             |dropout_2\n",
      "352               |384               |units_3\n",
      "0.0013969         |0.0096568         |lr_3\n",
      "tanh              |tanh              |activation_3\n",
      "True              |True              |dropout_3\n",
      "288               |320               |units_4\n",
      "0.0056663         |0.0001806         |lr_4\n",
      "tanh              |tanh              |activation_4\n",
      "True              |False             |dropout_4\n",
      "32                |32                |batch_size\n",
      "\n",
      "Epoch 1/5\n",
      "4/4 [==============================] - 4s 488ms/step - loss: 21.7398 - mean_squared_error: 570.5557 - val_loss: 19.1827 - val_mean_squared_error: 450.6049\n",
      "Epoch 2/5\n",
      "4/4 [==============================] - 0s 49ms/step - loss: 17.8381 - mean_squared_error: 418.4805 - val_loss: 15.4362 - val_mean_squared_error: 331.7335\n",
      "Epoch 3/5\n",
      "4/4 [==============================] - 0s 44ms/step - loss: 14.4403 - mean_squared_error: 322.9268 - val_loss: 12.7547 - val_mean_squared_error: 261.2060\n",
      "Epoch 4/5\n",
      "4/4 [==============================] - 0s 47ms/step - loss: 12.3658 - mean_squared_error: 264.4768 - val_loss: 11.2490 - val_mean_squared_error: 224.3055\n",
      "Epoch 5/5\n",
      "4/4 [==============================] - 0s 43ms/step - loss: 11.4034 - mean_squared_error: 230.6699 - val_loss: 10.6175 - val_mean_squared_error: 205.6643\n",
      "Trial 5 Complete [00h 00m 05s]\n",
      "val_loss: 10.617484092712402\n",
      "\n",
      "Best val_loss So Far: 10.617484092712402\n",
      "Total elapsed time: 00h 00m 26s\n",
      "Execution time: 26.979233026504517 seconds\n",
      "____________________________________________________________________________________________________\n",
      "Best Hyperparameters value: \n",
      "{'num_layers': 2, 'units_1': 128, 'lr_1': 0.0018299876247704452, 'activation_1': 'tanh', 'dropout_1': True, 'lr': 0.000828942267994634, 'units_2': 320, 'lr_2': 0.00021720625272752132, 'activation_2': 'tanh', 'dropout_2': False, 'units_3': 352, 'lr_3': 0.0013968946323924412, 'activation_3': 'tanh', 'dropout_3': True, 'units_4': 288, 'lr_4': 0.005666324070487912, 'activation_4': 'tanh', 'dropout_4': True, 'batch_size': 32}\n",
      "____________________________________________________________________________________________________\n",
      "Model Summary: \n",
      "Model: \"sequential_1\"\n",
      "_________________________________________________________________\n",
      " Layer (type)                Output Shape              Param #   \n",
      "=================================================================\n",
      " dense_3 (Dense)             (None, 13, 128)           256       \n",
      "                                                                 \n",
      " dropout_1 (Dropout)         (None, 13, 128)           0         \n",
      "                                                                 \n",
      " dense_4 (Dense)             (None, 13, 320)           41280     \n",
      "                                                                 \n",
      " dense_5 (Dense)             (None, 13, 1)             321       \n",
      "                                                                 \n",
      "=================================================================\n",
      "Total params: 41,857\n",
      "Trainable params: 41,857\n",
      "Non-trainable params: 0\n",
      "_________________________________________________________________\n"
     ]
    },
    {
     "name": "stderr",
     "output_type": "stream",
     "text": [
      "[Thu Sep 22 09:12:50 2022]\n",
      "Finished job 0.\n",
      "1 of 1 steps (100%) done\n",
      "Complete log: .snakemake/log/2022-09-22T091216.131096.snakemake.log\n"
     ]
    }
   ],
   "source": [
    "%%bash\n",
    "snakemake --cores \"all\""
   ]
  },
  {
   "cell_type": "markdown",
   "metadata": {},
   "source": [
    "<img src=\"nvidia_gpu_consumption.png\">"
   ]
  },
  {
   "cell_type": "markdown",
   "metadata": {},
   "source": [
    "#### Optimal hyperparameters"
   ]
  },
  {
   "cell_type": "code",
   "execution_count": 24,
   "metadata": {},
   "outputs": [
    {
     "name": "stdout",
     "output_type": "stream",
     "text": [
      "{'num_layers': 3, 'units_1': 384, 'lr_1': 0.00027684469877965653, 'activation_1': 'tanh', 'dropout_1': True, 'lr': 0.009871011784920034, 'units_2': 32, 'lr_2': 0.0001, 'activation_2': 'relu', 'dropout_2': False, 'units_3': 32, 'lr_3': 0.0001, 'activation_3': 'relu', 'dropout_3': False, 'batch_size': 32}\n",
      "Model: \"sequential_1\"\n",
      "_________________________________________________________________\n",
      " Layer (type)                Output Shape              Param #   \n",
      "=================================================================\n",
      " dense_4 (Dense)             (None, 13, 384)           768       \n",
      "                                                                 \n",
      " dropout_2 (Dropout)         (None, 13, 384)           0         \n",
      "                                                                 \n",
      " dense_5 (Dense)             (None, 13, 32)            12320     \n",
      "                                                                 \n",
      " dense_6 (Dense)             (None, 13, 32)            1056      \n",
      "                                                                 \n",
      " dense_7 (Dense)             (None, 13, 1)             33        \n",
      "                                                                 \n",
      "=================================================================\n",
      "Total params: 14,177\n",
      "Trainable params: 14,177\n",
      "Non-trainable params: 0\n",
      "_________________________________________________________________\n",
      "\n"
     ]
    }
   ],
   "source": [
    "path_hyperparameters = os.path.join(\"best_model\",config_file['experiment_name'],config_file['input_files']['models'].split(\"/\")[1].split(\".\")[0],\"best_param.txt\")\n",
    "with open(path_hyperparameters, \"r\") as external_file:\n",
    "    print(external_file.read())"
   ]
  },
  {
   "cell_type": "markdown",
   "metadata": {},
   "source": [
    "#### Loading Best model"
   ]
  },
  {
   "cell_type": "code",
   "execution_count": 21,
   "metadata": {},
   "outputs": [],
   "source": [
    "import tensorflow as tf\n",
    "from tensorflow import keras\n"
   ]
  },
  {
   "cell_type": "code",
   "execution_count": 25,
   "metadata": {},
   "outputs": [
    {
     "name": "stdout",
     "output_type": "stream",
     "text": [
      "Model: \"sequential_1\"\n",
      "_________________________________________________________________\n",
      " Layer (type)                Output Shape              Param #   \n",
      "=================================================================\n",
      " dense_4 (Dense)             (None, 13, 384)           768       \n",
      "                                                                 \n",
      " dropout_2 (Dropout)         (None, 13, 384)           0         \n",
      "                                                                 \n",
      " dense_5 (Dense)             (None, 13, 32)            12320     \n",
      "                                                                 \n",
      " dense_6 (Dense)             (None, 13, 32)            1056      \n",
      "                                                                 \n",
      " dense_7 (Dense)             (None, 13, 1)             33        \n",
      "                                                                 \n",
      "=================================================================\n",
      "Total params: 14,177\n",
      "Trainable params: 14,177\n",
      "Non-trainable params: 0\n",
      "_________________________________________________________________\n"
     ]
    }
   ],
   "source": [
    "best_model_path = os.path.join(\"best_model\",config_file['experiment_name'],config_file['input_files']['models'].split(\"/\")[1].split(\".\")[0])\n",
    "model = keras.models.load_model(best_model_path)\n",
    "model.summary()"
   ]
  },
  {
   "cell_type": "code",
   "execution_count": 28,
   "metadata": {},
   "outputs": [
    {
     "data": {
      "text/plain": [
       "{'name': 'Adam',\n",
       " 'learning_rate': 0.009871011784920034,\n",
       " 'decay': 0.0,\n",
       " 'beta_1': 0.9,\n",
       " 'beta_2': 0.999,\n",
       " 'epsilon': 1e-07,\n",
       " 'amsgrad': False}"
      ]
     },
     "execution_count": 28,
     "metadata": {},
     "output_type": "execute_result"
    }
   ],
   "source": [
    "model.optimizer.get_config()"
   ]
  },
  {
   "cell_type": "markdown",
   "metadata": {},
   "source": [
    "#### Train the model further "
   ]
  },
  {
   "cell_type": "markdown",
   "metadata": {},
   "source": []
  }
 ],
 "metadata": {
  "kernelspec": {
   "display_name": "Python 3.10.6 ('snakemake')",
   "language": "python",
   "name": "python3"
  },
  "language_info": {
   "codemirror_mode": {
    "name": "ipython",
    "version": 3
   },
   "file_extension": ".py",
   "mimetype": "text/x-python",
   "name": "python",
   "nbconvert_exporter": "python",
   "pygments_lexer": "ipython3",
   "version": "3.10.6"
  },
  "orig_nbformat": 4,
  "vscode": {
   "interpreter": {
    "hash": "78a40b697748e45d1b589a42639bbad61de1a735413673d055097e8cfd8fe21c"
   }
  }
 },
 "nbformat": 4,
 "nbformat_minor": 2
}
